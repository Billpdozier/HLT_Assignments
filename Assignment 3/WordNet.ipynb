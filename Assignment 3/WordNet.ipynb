{
 "cells": [
  {
   "cell_type": "markdown",
   "metadata": {},
   "source": [
    "WordNet is a database of English lexicons. In WordNet nouns, verbs, adjectives, and adverbs are put into what are called synsets, which represent a distinct concept. These synsets are linked together by semantic relations."
   ]
  },
  {
   "cell_type": "code",
   "execution_count": 30,
   "metadata": {},
   "outputs": [
    {
     "data": {
      "text/plain": [
       "[Synset('crab.n.01'),\n",
       " Synset('crab.n.02'),\n",
       " Synset('cancer.n.02'),\n",
       " Synset('cancer.n.04'),\n",
       " Synset('crab.n.05'),\n",
       " Synset('crab_louse.n.01'),\n",
       " Synset('crab.n.07'),\n",
       " Synset('crab.v.01'),\n",
       " Synset('crab.v.02'),\n",
       " Synset('crab.v.03'),\n",
       " Synset('gripe.v.01')]"
      ]
     },
     "execution_count": 30,
     "metadata": {},
     "output_type": "execute_result"
    }
   ],
   "source": [
    "from nltk.corpus import wordnet as wn\n",
    "wn.synsets('crab')"
   ]
  },
  {
   "cell_type": "code",
   "execution_count": 93,
   "metadata": {},
   "outputs": [
    {
     "name": "stdout",
     "output_type": "stream",
     "text": [
      "a systematic means of communicating by the use of sounds or conventional symbols\n",
      "['he taught foreign languages', 'the language introduced is standard throughout the text', 'the speed with which a program can be executed depends on the language in which it is written']\n",
      "[Lemma('language.n.01.language'), Lemma('language.n.01.linguistic_communication')]\n",
      "Synset('language.n.01')\n",
      "Synset('communication.n.02')\n",
      "Synset('abstraction.n.06')\n",
      "Synset('entity.n.01')\n"
     ]
    }
   ],
   "source": [
    "synset = wn.synsets('language')[0]\n",
    "print(synset.definition())\n",
    "print(synset.examples())\n",
    "print(synset.lemmas())\n",
    "\n",
    "hypern = synset\n",
    "print(hypern)\n",
    "while hypern.hypernyms():\n",
    "    hypern = hypern.hypernyms()[0]\n",
    "    print(hypern)"
   ]
  },
  {
   "cell_type": "markdown",
   "metadata": {},
   "source": [
    "The heirarchal structure of synsets are described with hypernyms, and hyponyms. A hypernym is a level up in generalization of a given synset, eventually reaching a least specific concept, and hyponyms are more specific concepts given a synset."
   ]
  },
  {
   "cell_type": "code",
   "execution_count": 51,
   "metadata": {},
   "outputs": [
    {
     "name": "stdout",
     "output_type": "stream",
     "text": [
      "[Synset('communication.n.02')]\n",
      "[Synset('artificial_language.n.01'), Synset('barrage.n.01'), Synset('dead_language.n.01'), Synset('indigenous_language.n.01'), Synset('lingua_franca.n.01'), Synset('metalanguage.n.01'), Synset('native_language.n.01'), Synset('natural_language.n.01'), Synset('object_language.n.02'), Synset('sign_language.n.01'), Synset('slanguage.n.01'), Synset('source_language.n.01'), Synset('string_of_words.n.01'), Synset('superstrate.n.02'), Synset('usage.n.03'), Synset('words.n.03')]\n",
      "[]\n",
      "[]\n",
      "[]\n"
     ]
    }
   ],
   "source": [
    "print(synset.hypernyms())\n",
    "print(synset.hyponyms())\n",
    "print(synset.member_meronyms())\n",
    "print(synset.member_holonyms())\n",
    "print(synset.lemmas()[0].antonyms())"
   ]
  },
  {
   "cell_type": "code",
   "execution_count": 97,
   "metadata": {},
   "outputs": [
    {
     "name": "stdout",
     "output_type": "stream",
     "text": [
      "[Synset('travel.n.01'), Synset('change_of_location.n.01'), Synset('locomotion.n.02'), Synset('travel.v.01'), Synset('travel.v.02'), Synset('travel.v.03'), Synset('travel.v.04'), Synset('travel.v.05'), Synset('travel.v.06')]\n",
      "change location; move, travel, or proceed, also metaphorically\n",
      "['How fast does your new car go?', 'We travelled from Rome to Naples by bus', 'The policemen went from door to door looking for the suspect', 'The soldiers moved towards the city in an attempt to take it before night fell', 'news travelled fast']\n",
      "[Lemma('travel.v.01.travel'), Lemma('travel.v.01.go'), Lemma('travel.v.01.move'), Lemma('travel.v.01.locomote')]\n",
      "Synset('travel.v.01')\n"
     ]
    }
   ],
   "source": [
    "synset = wn.synsets('travel')\n",
    "print(synset)\n",
    "synset = synset[3]\n",
    "print(synset.definition())\n",
    "print(synset.examples())\n",
    "print(synset.lemmas())\n",
    "\n",
    "hypern = synset\n",
    "print(hypern)\n",
    "while hypern.hypernyms():\n",
    "    hypern = hypern.hypernyms()[0]\n",
    "    print(hypern)"
   ]
  },
  {
   "cell_type": "code",
   "execution_count": 61,
   "metadata": {},
   "outputs": [
    {
     "data": {
      "text/plain": [
       "'travel'"
      ]
     },
     "execution_count": 61,
     "metadata": {},
     "output_type": "execute_result"
    }
   ],
   "source": [
    "wn.morphy('traveled', wn.VERB)"
   ]
  },
  {
   "cell_type": "code",
   "execution_count": 66,
   "metadata": {},
   "outputs": [
    {
     "name": "stdout",
     "output_type": "stream",
     "text": [
      "0.2\n",
      "0.75\n",
      "the sun and the moon\n"
     ]
    },
    {
     "data": {
      "text/plain": [
       "Synset('moon.v.02')"
      ]
     },
     "execution_count": 66,
     "metadata": {},
     "output_type": "execute_result"
    }
   ],
   "source": [
    "from nltk.wsd import lesk\n",
    "\n",
    "sun = wn.synset('sun.n.01')\n",
    "moon = wn.synset('moon.n.01')\n",
    "print(sun.path_similarity(moon))\n",
    "print(sun.wup_similarity(moon))\n",
    "sent = \"the sun and the moon\"\n",
    "print(sent)\n",
    "lesk(sent, 'moon')"
   ]
  },
  {
   "cell_type": "markdown",
   "metadata": {},
   "source": [
    "SentiWordNet uses wordnet to determine sentiment from words. This can be used for many things like determining what customers felt about something without an actual rating."
   ]
  },
  {
   "cell_type": "code",
   "execution_count": 90,
   "metadata": {},
   "outputs": [
    {
     "name": "stdout",
     "output_type": "stream",
     "text": [
      "<depression.n.01: PosScore=0.0 NegScore=0.375>\n",
      "<depression.n.02: PosScore=0.0 NegScore=0.25>\n",
      "<natural_depression.n.01: PosScore=0.0 NegScore=0.0>\n",
      "<depression.n.04: PosScore=0.125 NegScore=0.625>\n",
      "<depression.n.05: PosScore=0.0 NegScore=0.0>\n",
      "<low.n.01: PosScore=0.0 NegScore=0.0>\n",
      "<depressive_disorder.n.01: PosScore=0.0 NegScore=0.125>\n",
      "<depression.n.08: PosScore=0.0 NegScore=0.0>\n",
      "<depression.n.09: PosScore=0.0 NegScore=0.0>\n",
      "<depression.n.10: PosScore=0.0 NegScore=0.25>\n",
      "I am not feeling very good today\n",
      "<iodine.n.01: PosScore=0.0 NegScore=0.0>\n",
      "<americium.n.01: PosScore=0.0 NegScore=0.0>\n",
      "<not.r.01: PosScore=0.0 NegScore=0.625>\n",
      "<feeling.n.01: PosScore=0.125 NegScore=0.125>\n",
      "<very.s.01: PosScore=0.5 NegScore=0.0>\n",
      "<good.n.01: PosScore=0.5 NegScore=0.0>\n",
      "<today.n.01: PosScore=0.125 NegScore=0.0>\n"
     ]
    }
   ],
   "source": [
    "from nltk.corpus import sentiwordnet as swn\n",
    "from nltk.tokenize import word_tokenize\n",
    "sentiword = list(swn.senti_synsets('Depression'))\n",
    "for word in sentiword:\n",
    "    print(str(word))\n",
    "\n",
    "sent = \"I am not feeling very good today\"\n",
    "print(sent)\n",
    "for word in word_tokenize(sent):\n",
    "    print(list(swn.senti_synsets(word))[0])"
   ]
  },
  {
   "cell_type": "markdown",
   "metadata": {},
   "source": [
    "When it comes to the sentiment score, words with logical implications or denote feeling usually sway from neutral scores (for example very & not, good & bad). This can be useful to calculate an overall sentiment for the sentence, compounding scores into an overall score."
   ]
  },
  {
   "cell_type": "markdown",
   "metadata": {},
   "source": [
    "Collocations are expressions where certain words commonly occur together. for example, \"pretty sure\" or \"take your time\", due to their use in natural speech, we as people use these phrases often, instead of saying \"very sure\" most often people say \"pretty sure\"."
   ]
  }
 ],
 "metadata": {
  "kernelspec": {
   "display_name": "Python 3.9.13 64-bit (microsoft store)",
   "language": "python",
   "name": "python3"
  },
  "language_info": {
   "codemirror_mode": {
    "name": "ipython",
    "version": 3
   },
   "file_extension": ".py",
   "mimetype": "text/x-python",
   "name": "python",
   "nbconvert_exporter": "python",
   "pygments_lexer": "ipython3",
   "version": "3.9.13"
  },
  "orig_nbformat": 4,
  "vscode": {
   "interpreter": {
    "hash": "0c07446d5d1419cb0bd25f95ce8726a57daa5232e58b91cc6806ef38f4e8b176"
   }
  }
 },
 "nbformat": 4,
 "nbformat_minor": 2
}
