{
 "cells": [
  {
   "cell_type": "code",
   "execution_count": 1,
   "metadata": {},
   "outputs": [],
   "source": [
    "import math\n",
    "import pandas as pd\n",
    "from nltk.corpus import stopwords\n",
    "from sklearn.feature_extraction.text import TfidfVectorizer\n",
    "from sklearn.naive_bayes import BernoulliNB\n",
    "from sklearn.model_selection import train_test_split\n",
    "from sklearn.linear_model import LogisticRegression\n",
    "from sklearn.neural_network import MLPClassifier\n"
   ]
  },
  {
   "cell_type": "code",
   "execution_count": 2,
   "metadata": {},
   "outputs": [
    {
     "name": "stdout",
     "output_type": "stream",
     "text": [
      "     author                                               text\n",
      "0  HAMILTON  FEDERALIST. No. 1 General Introduction For the...\n",
      "1       JAY  FEDERALIST No. 2 Concerning Dangers from Forei...\n",
      "2       JAY  FEDERALIST No. 3 The Same Subject Continued (C...\n",
      "3       JAY  FEDERALIST No. 4 The Same Subject Continued (C...\n",
      "4       JAY  FEDERALIST No. 5 The Same Subject Continued (C...\n",
      "{'HAMILTON': 48, 'JAY': 4, 'MADISON': 14, 'HAMILTON AND MADISON': 2, 'HAMILTON OR MADISON': 10}\n"
     ]
    }
   ],
   "source": [
    "\n",
    "df = pd.read_csv('federalist.csv')\n",
    "\n",
    "# STEP 1\n",
    "print(df.head())\n",
    "authors = {}\n",
    "for row in df['author']:\n",
    "    if authors.get(row) != None:\n",
    "        authors[row] += 1\n",
    "    else:\n",
    "        authors[row] = 0\n",
    "print(authors)\n"
   ]
  },
  {
   "cell_type": "code",
   "execution_count": 3,
   "metadata": {},
   "outputs": [
    {
     "name": "stdout",
     "output_type": "stream",
     "text": [
      "(66,)\n",
      "(17,)\n"
     ]
    }
   ],
   "source": [
    "\n",
    "# STEP 2\n",
    "stopwords = stopwords.words('english')\n",
    "\n",
    "df['text_nostop'] = df['text'].apply(lambda words: ' '.join([word for word in words.split() if word not in stopwords]))\n",
    "X_train, X_test, y_train, y_test = train_test_split(df['text_nostop'], df['author'], test_size=0.2, random_state=1234)\n",
    "print(X_train.shape)\n",
    "print(X_test.shape)\n"
   ]
  },
  {
   "cell_type": "code",
   "execution_count": 4,
   "metadata": {},
   "outputs": [
    {
     "name": "stdout",
     "output_type": "stream",
     "text": [
      "(66, 7991)\n",
      "(17, 7991)\n"
     ]
    }
   ],
   "source": [
    "\n",
    "# STEP 3\n",
    "tfidf = TfidfVectorizer()\n",
    "X_train = tfidf.fit_transform(X_train) # fit the training data\n",
    "X_test = tfidf.transform(X_test)\n",
    "print(X_train.shape)\n",
    "print(X_test.shape)\n"
   ]
  },
  {
   "cell_type": "code",
   "execution_count": 5,
   "metadata": {},
   "outputs": [
    {
     "name": "stdout",
     "output_type": "stream",
     "text": [
      "bernoulli:  0.5882352941176471\n"
     ]
    }
   ],
   "source": [
    "\n",
    "# STEP 4\n",
    "bern = BernoulliNB()\n",
    "bern.fit(X_train,y_train)\n",
    "pred = bern.predict(X_test)\n",
    "print(\"bernoulli: \", bern.score(X_test,y_test))\n"
   ]
  },
  {
   "cell_type": "code",
   "execution_count": 6,
   "metadata": {},
   "outputs": [],
   "source": [
    "\n",
    "# STEP 5\n",
    "X_train, X_test, y_train, y_test = train_test_split(df['text_nostop'], df['author'], test_size=0.2, random_state=1234)\n",
    "tfidf = TfidfVectorizer(max_features=1000, min_df=2, max_df=0.5, ngram_range=(1, 2))\n",
    "X_train = tfidf.fit_transform(X_train) # fit the training data\n",
    "X_test = tfidf.transform(X_test)\n"
   ]
  },
  {
   "cell_type": "code",
   "execution_count": 7,
   "metadata": {},
   "outputs": [
    {
     "name": "stdout",
     "output_type": "stream",
     "text": [
      "bernoulli:  0.9411764705882353\n"
     ]
    }
   ],
   "source": [
    "\n",
    "bern = BernoulliNB()\n",
    "bern.fit(X_train,y_train)\n",
    "pred = bern.predict(X_test)\n",
    "print(\"bernoulli: \", bern.score(X_test,y_test)) # MUCH BETTER RESULTS!\n"
   ]
  },
  {
   "cell_type": "code",
   "execution_count": 8,
   "metadata": {},
   "outputs": [
    {
     "name": "stdout",
     "output_type": "stream",
     "text": [
      "logisitic regression:  0.5882352941176471\n"
     ]
    }
   ],
   "source": [
    "\n",
    "# STEP 6\n",
    "lr = LogisticRegression(solver='liblinear') # CHANGED A TON OF PARAMETERS, COULD GET NO CHANGE\n",
    "lr.fit(X_train,y_train)\n",
    "pred = lr.predict(X_test)\n",
    "print(\"logisitic regression: \", lr.score(X_test,y_test))\n"
   ]
  },
  {
   "cell_type": "code",
   "execution_count": 9,
   "metadata": {},
   "outputs": [
    {
     "name": "stdout",
     "output_type": "stream",
     "text": [
      "MLP:  0.8235294117647058\n"
     ]
    }
   ],
   "source": [
    "\n",
    "# STEP 7\n",
    "mlp = MLPClassifier(max_iter=10000, hidden_layer_sizes=(7,9)) # about 82% accuracy\n",
    "mlp.fit(X_train,y_train)\n",
    "pred = mlp.predict(X_test)\n",
    "print(\"MLP: \", mlp.score(X_test,y_test))"
   ]
  },
  {
   "cell_type": "code",
   "execution_count": null,
   "metadata": {},
   "outputs": [],
   "source": []
  }
 ],
 "metadata": {
  "kernelspec": {
   "display_name": "Python 3 (ipykernel)",
   "language": "python",
   "name": "python3"
  },
  "language_info": {
   "codemirror_mode": {
    "name": "ipython",
    "version": 3
   },
   "file_extension": ".py",
   "mimetype": "text/x-python",
   "name": "python",
   "nbconvert_exporter": "python",
   "pygments_lexer": "ipython3",
   "version": "3.9.13"
  },
  "vscode": {
   "interpreter": {
    "hash": "0c07446d5d1419cb0bd25f95ce8726a57daa5232e58b91cc6806ef38f4e8b176"
   }
  }
 },
 "nbformat": 4,
 "nbformat_minor": 2
}
