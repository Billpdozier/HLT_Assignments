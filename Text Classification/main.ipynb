{
 "cells": [
  {
   "cell_type": "code",
   "execution_count": 4,
   "metadata": {},
   "outputs": [],
   "source": [
    "import pandas as pd\n",
    "from nltk.corpus import stopwords\n",
    "import tensorflow as tf\n",
    "import numpy as np\n",
    "\n",
    "\n",
    "from tensorflow import keras\n",
    "from keras import models, layers\n",
    "\n",
    "\n",
    "\n",
    "from sklearn.preprocessing import LabelEncoder\n",
    "\n",
    "np.random.seed(1234)"
   ]
  },
  {
   "cell_type": "code",
   "execution_count": 12,
   "metadata": {},
   "outputs": [
    {
     "name": "stdout",
     "output_type": "stream",
     "text": [
      "                                                Text      Label\n",
      "0  @Charlie_Corley @Kristine1G @amyklobuchar @Sty...  litigious\n",
      "1  #BadBunny: Como dos gotas de agua: Joven se di...   negative\n",
      "2  https://t.co/YJNiO0p1JV Flagstar Bank disclose...  litigious\n",
      "3  Rwanda is set to host the headquarters of Unit...   positive\n",
      "4  OOPS. I typed her name incorrectly (todayâs ...  litigious\n",
      "train data size:  (16016, 2)\n",
      "test data size:  (3985, 2)\n"
     ]
    }
   ],
   "source": [
    "\n",
    "df = pd.read_csv('dataset.csv', encoding='latin1')\n",
    "df.pop('Language')\n",
    "\n",
    "\n",
    "\n",
    "print(df.head())\n",
    "df = df.truncate(before=0, after=20000)\n",
    "i = np.random.rand(len(df)) < 0.8\n",
    "train = df[i]\n",
    "test = df[~i]\n",
    "\n",
    "print(\"train data size: \", train.shape)\n",
    "print(\"test data size: \", test.shape)"
   ]
  },
  {
   "cell_type": "code",
   "execution_count": 13,
   "metadata": {},
   "outputs": [
    {
     "data": {
      "text/plain": [
       "<AxesSubplot:>"
      ]
     },
     "execution_count": 13,
     "metadata": {},
     "output_type": "execute_result"
    },
    {
     "data": {
      "image/png": "[encoded data removed]",
      "text/plain": [
       "<Figure size 432x288 with 1 Axes>"
      ]
     },
     "metadata": {
      "needs_background": "light"
     },
     "output_type": "display_data"
    }
   ],
   "source": [
    "import matplotlib.pyplot as plt\n",
    "df['Label'].value_counts().plot(kind='bar')"
   ]
  },
  {
   "cell_type": "code",
   "execution_count": 14,
   "metadata": {},
   "outputs": [
    {
     "name": "stdout",
     "output_type": "stream",
     "text": [
      "train shapes: (16016, 10000) (16016,)\n",
      "test shapes: (3985, 10000) (3985,)\n"
     ]
    }
   ],
   "source": [
    "num_labels = 2\n",
    "vocab_size = 10000\n",
    "batch_size = 100\n",
    "\n",
    "tokenizer = keras.preprocessing.text.Tokenizer(num_words=vocab_size)\n",
    "tokenizer.fit_on_texts(train.Text)\n",
    "\n",
    "x_train = tokenizer.texts_to_matrix(train.Text, mode='tfidf')\n",
    "x_test = tokenizer.texts_to_matrix(test.Text, mode='tfidf')\n",
    "\n",
    "encoder = LabelEncoder()\n",
    "encoder.fit(train.Label)\n",
    "y_train = encoder.transform(train.Label)\n",
    "y_test = encoder.transform(test.Label)\n",
    "\n",
    "# check shape\n",
    "print(\"train shapes:\", x_train.shape, y_train.shape)\n",
    "print(\"test shapes:\", x_test.shape, y_test.shape)"
   ]
  },
  {
   "cell_type": "code",
   "execution_count": 15,
   "metadata": {},
   "outputs": [],
   "source": [
    "\n",
    "model = models.Sequential()\n",
    "model.add(layers.Dense(16, activation='relu', input_shape=(10000,)))\n",
    "model.add(layers.Dense(16, activation='relu'))\n",
    "model.add(layers.Dense(1, activation='sigmoid'))\n",
    "\n"
   ]
  },
  {
   "cell_type": "code",
   "execution_count": 16,
   "metadata": {},
   "outputs": [],
   "source": [
    "model.compile(optimizer='rmsprop',\n",
    "              loss='binary_crossentropy',\n",
    "              metrics=['accuracy'],\n",
    "              run_eagerly=True)\n"
   ]
  },
  {
   "cell_type": "code",
   "execution_count": 17,
   "metadata": {},
   "outputs": [],
   "source": [
    "x_val = x_train[:10000]\n",
    "partial_x_train = x_train[10000:]\n",
    "\n",
    "y_val = y_train[:10000]\n",
    "partial_y_train = y_train[10000:]\n"
   ]
  },
  {
   "cell_type": "code",
   "execution_count": 18,
   "metadata": {},
   "outputs": [
    {
     "name": "stdout",
     "output_type": "stream",
     "text": [
      "Epoch 1/20\n",
      "12/12 [==============================] - 1s 88ms/step - loss: -0.1674 - accuracy: 0.2902 - val_loss: -1.0230 - val_accuracy: 0.2790\n",
      "Epoch 2/20\n",
      "12/12 [==============================] - 1s 60ms/step - loss: -1.7497 - accuracy: 0.2970 - val_loss: -2.4392 - val_accuracy: 0.2829\n",
      "Epoch 3/20\n",
      "12/12 [==============================] - 1s 60ms/step - loss: -3.4697 - accuracy: 0.3072 - val_loss: -4.1710 - val_accuracy: 0.2879\n",
      "Epoch 4/20\n",
      "12/12 [==============================] - 1s 54ms/step - loss: -5.6989 - accuracy: 0.3150 - val_loss: -6.3949 - val_accuracy: 0.2952\n",
      "Epoch 5/20\n",
      "12/12 [==============================] - 1s 54ms/step - loss: -8.5119 - accuracy: 0.3216 - val_loss: -9.0999 - val_accuracy: 0.3018\n",
      "Epoch 6/20\n",
      "12/12 [==============================] - 1s 55ms/step - loss: -11.8949 - accuracy: 0.3276 - val_loss: -12.2233 - val_accuracy: 0.3056\n",
      "Epoch 7/20\n",
      "12/12 [==============================] - 1s 57ms/step - loss: -15.7667 - accuracy: 0.3311 - val_loss: -15.7360 - val_accuracy: 0.3073\n",
      "Epoch 8/20\n",
      "12/12 [==============================] - 1s 62ms/step - loss: -20.1639 - accuracy: 0.3343 - val_loss: -19.7524 - val_accuracy: 0.3076\n",
      "Epoch 9/20\n",
      "12/12 [==============================] - 1s 58ms/step - loss: -25.1353 - accuracy: 0.3356 - val_loss: -24.2254 - val_accuracy: 0.3084\n",
      "Epoch 10/20\n",
      "12/12 [==============================] - 1s 62ms/step - loss: -30.6807 - accuracy: 0.3373 - val_loss: -29.1672 - val_accuracy: 0.3090\n",
      "Epoch 11/20\n",
      "12/12 [==============================] - 1s 58ms/step - loss: -36.8734 - accuracy: 0.3384 - val_loss: -34.7358 - val_accuracy: 0.3096\n",
      "Epoch 12/20\n",
      "12/12 [==============================] - 1s 58ms/step - loss: -43.7872 - accuracy: 0.3403 - val_loss: -40.7862 - val_accuracy: 0.3117\n",
      "Epoch 13/20\n",
      "12/12 [==============================] - 1s 63ms/step - loss: -51.4105 - accuracy: 0.3421 - val_loss: -47.4346 - val_accuracy: 0.3124\n",
      "Epoch 14/20\n",
      "12/12 [==============================] - 1s 59ms/step - loss: -59.7234 - accuracy: 0.3436 - val_loss: -54.7401 - val_accuracy: 0.3124\n",
      "Epoch 15/20\n",
      "12/12 [==============================] - 1s 53ms/step - loss: -68.7914 - accuracy: 0.3438 - val_loss: -62.6921 - val_accuracy: 0.3129\n",
      "Epoch 16/20\n",
      "12/12 [==============================] - 1s 55ms/step - loss: -78.7059 - accuracy: 0.3449 - val_loss: -71.2958 - val_accuracy: 0.3133\n",
      "Epoch 17/20\n",
      "12/12 [==============================] - 1s 54ms/step - loss: -89.4085 - accuracy: 0.3447 - val_loss: -80.5155 - val_accuracy: 0.3135\n",
      "Epoch 18/20\n",
      "12/12 [==============================] - 1s 55ms/step - loss: -100.8420 - accuracy: 0.3459 - val_loss: -90.3603 - val_accuracy: 0.3135\n",
      "Epoch 19/20\n",
      "12/12 [==============================] - 1s 53ms/step - loss: -113.1405 - accuracy: 0.3471 - val_loss: -100.8734 - val_accuracy: 0.3134\n",
      "Epoch 20/20\n",
      "12/12 [==============================] - 1s 52ms/step - loss: -126.2991 - accuracy: 0.3482 - val_loss: -112.2095 - val_accuracy: 0.3134\n"
     ]
    }
   ],
   "source": [
    "history = model.fit(partial_x_train,\n",
    "                    partial_y_train,\n",
    "                    epochs=20,\n",
    "                    batch_size=512,\n",
    "                    validation_data=(x_val, y_val))\n"
   ]
  },
  {
   "cell_type": "code",
   "execution_count": 19,
   "metadata": {},
   "outputs": [
    {
     "name": "stdout",
     "output_type": "stream",
     "text": [
      "125/125 [==============================] - 0s 2ms/step\n",
      "              precision    recall  f1-score   support\n",
      "\n",
      "           0       0.97      0.15      0.27       833\n",
      "           1       0.29      1.00      0.45      1123\n",
      "           2       0.00      0.00      0.00      1108\n",
      "           3       0.00      0.00      0.00       921\n",
      "\n",
      "    accuracy                           0.31      3985\n",
      "   macro avg       0.32      0.29      0.18      3985\n",
      "weighted avg       0.28      0.31      0.18      3985\n",
      "\n"
     ]
    },
    {
     "name": "stderr",
     "output_type": "stream",
     "text": [
      "C:\\Users\\BillP\\AppData\\Local\\Packages\\PythonSoftwareFoundation.Python.3.9_qbz5n2kfra8p0\\LocalCache\\local-packages\\Python39\\site-packages\\sklearn\\metrics\\_classification.py:1318: UndefinedMetricWarning: Precision and F-score are ill-defined and being set to 0.0 in labels with no predicted samples. Use `zero_division` parameter to control this behavior.\n",
      "  _warn_prf(average, modifier, msg_start, len(result))\n",
      "C:\\Users\\BillP\\AppData\\Local\\Packages\\PythonSoftwareFoundation.Python.3.9_qbz5n2kfra8p0\\LocalCache\\local-packages\\Python39\\site-packages\\sklearn\\metrics\\_classification.py:1318: UndefinedMetricWarning: Precision and F-score are ill-defined and being set to 0.0 in labels with no predicted samples. Use `zero_division` parameter to control this behavior.\n",
      "  _warn_prf(average, modifier, msg_start, len(result))\n",
      "C:\\Users\\BillP\\AppData\\Local\\Packages\\PythonSoftwareFoundation.Python.3.9_qbz5n2kfra8p0\\LocalCache\\local-packages\\Python39\\site-packages\\sklearn\\metrics\\_classification.py:1318: UndefinedMetricWarning: Precision and F-score are ill-defined and being set to 0.0 in labels with no predicted samples. Use `zero_division` parameter to control this behavior.\n",
      "  _warn_prf(average, modifier, msg_start, len(result))\n"
     ]
    }
   ],
   "source": [
    "from sklearn.metrics import classification_report\n",
    "\n",
    "pred = model.predict(x_test)\n",
    "pred = [1.0 if p>= 0.5 else 0.0 for p in pred]\n",
    "print(classification_report(y_test, pred))"
   ]
  },
  {
   "cell_type": "code",
   "execution_count": 20,
   "metadata": {},
   "outputs": [
    {
     "name": "stdout",
     "output_type": "stream",
     "text": [
      "Model: \"sequential_2\"\n",
      "_________________________________________________________________\n",
      " Layer (type)                Output Shape              Param #   \n",
      "=================================================================\n",
      " embedding (Embedding)       (None, 10000, 128)        1280000   \n",
      "                                                                 \n",
      " conv1d (Conv1D)             (None, 9994, 32)          28704     \n",
      "                                                                 \n",
      " max_pooling1d (MaxPooling1D  (None, 1998, 32)         0         \n",
      " )                                                               \n",
      "                                                                 \n",
      " conv1d_1 (Conv1D)           (None, 1992, 32)          7200      \n",
      "                                                                 \n",
      " global_max_pooling1d (Globa  (None, 32)               0         \n",
      " lMaxPooling1D)                                                  \n",
      "                                                                 \n",
      " dense_6 (Dense)             (None, 1)                 33        \n",
      "                                                                 \n",
      "=================================================================\n",
      "Total params: 1,315,937\n",
      "Trainable params: 1,315,937\n",
      "Non-trainable params: 0\n",
      "_________________________________________________________________\n"
     ]
    }
   ],
   "source": [
    "max_features = 10000\n",
    "maxlen = 10000\n",
    "batch_size = 32\n",
    "\n",
    "model = models.Sequential()\n",
    "model.add(layers.Embedding(max_features, 128, input_length=maxlen)) \n",
    "model.add(layers.Conv1D(32, 7, activation='relu')) \n",
    "model.add(layers.MaxPooling1D(5)) \n",
    "model.add(layers.Conv1D(32, 7, activation='relu')) \n",
    "model.add(layers.GlobalMaxPooling1D())\n",
    "model.add(layers.Dense(1))\n",
    "model.summary()\n"
   ]
  },
  {
   "cell_type": "code",
   "execution_count": 21,
   "metadata": {},
   "outputs": [
    {
     "name": "stderr",
     "output_type": "stream",
     "text": [
      "C:\\Users\\BillP\\AppData\\Local\\Packages\\PythonSoftwareFoundation.Python.3.9_qbz5n2kfra8p0\\LocalCache\\local-packages\\Python39\\site-packages\\keras\\optimizers\\optimizer_v2\\rmsprop.py:140: UserWarning: The `lr` argument is deprecated, use `learning_rate` instead.\n",
      "  super().__init__(name, **kwargs)\n"
     ]
    }
   ],
   "source": [
    "model.compile(optimizer=tf.keras.optimizers.RMSprop(lr=1e-4),  # set learning rate\n",
    "              loss='binary_crossentropy',\n",
    "              metrics=['accuracy'])"
   ]
  },
  {
   "cell_type": "code",
   "execution_count": 22,
   "metadata": {},
   "outputs": [
    {
     "name": "stdout",
     "output_type": "stream",
     "text": [
      "Epoch 1/10\n",
      "10/10 [==============================] - 146s 14s/step - loss: 3.5593 - accuracy: 0.2136 - val_loss: 2.4577 - val_accuracy: 0.2434\n",
      "Epoch 2/10\n",
      "10/10 [==============================] - 136s 14s/step - loss: 2.1833 - accuracy: 0.2136 - val_loss: 1.6489 - val_accuracy: 0.2434\n",
      "Epoch 3/10\n",
      "10/10 [==============================] - 129s 13s/step - loss: 1.4341 - accuracy: 0.2136 - val_loss: 1.0469 - val_accuracy: 0.2434\n",
      "Epoch 4/10\n",
      "10/10 [==============================] - 132s 13s/step - loss: 0.8161 - accuracy: 0.2363 - val_loss: 0.4833 - val_accuracy: 0.2924\n",
      "Epoch 5/10\n",
      "10/10 [==============================] - 133s 13s/step - loss: 0.1618 - accuracy: 0.2872 - val_loss: -0.2465 - val_accuracy: 0.2924\n",
      "Epoch 6/10\n",
      "10/10 [==============================] - 137s 14s/step - loss: -2.3149 - accuracy: 0.2874 - val_loss: -6.5353 - val_accuracy: 0.2924\n",
      "Epoch 7/10\n",
      "10/10 [==============================] - 135s 13s/step - loss: -7.6483 - accuracy: 0.2874 - val_loss: -6.5354 - val_accuracy: 0.2924\n",
      "Epoch 8/10\n",
      "10/10 [==============================] - 137s 14s/step - loss: -7.6531 - accuracy: 0.2874 - val_loss: -6.5354 - val_accuracy: 0.2924\n",
      "Epoch 9/10\n",
      "10/10 [==============================] - 135s 13s/step - loss: -7.6531 - accuracy: 0.2874 - val_loss: -6.5354 - val_accuracy: 0.2924\n",
      "Epoch 10/10\n",
      "10/10 [==============================] - 137s 14s/step - loss: -7.6531 - accuracy: 0.2874 - val_loss: -6.5354 - val_accuracy: 0.2924\n"
     ]
    }
   ],
   "source": [
    "history = model.fit(partial_x_train,\n",
    "                    partial_y_train,\n",
    "                    epochs=10,\n",
    "                    batch_size=512,\n",
    "                    validation_split=0.2)"
   ]
  },
  {
   "cell_type": "code",
   "execution_count": 23,
   "metadata": {},
   "outputs": [
    {
     "name": "stdout",
     "output_type": "stream",
     "text": [
      "125/125 [==============================] - 16s 129ms/step\n",
      "              precision    recall  f1-score   support\n",
      "\n",
      "           0       0.00      0.00      0.00       833\n",
      "           1       0.28      1.00      0.44      1123\n",
      "           2       0.00      0.00      0.00      1108\n",
      "           3       0.00      0.00      0.00       921\n",
      "\n",
      "    accuracy                           0.28      3985\n",
      "   macro avg       0.07      0.25      0.11      3985\n",
      "weighted avg       0.08      0.28      0.12      3985\n",
      "\n"
     ]
    },
    {
     "name": "stderr",
     "output_type": "stream",
     "text": [
      "C:\\Users\\BillP\\AppData\\Local\\Packages\\PythonSoftwareFoundation.Python.3.9_qbz5n2kfra8p0\\LocalCache\\local-packages\\Python39\\site-packages\\sklearn\\metrics\\_classification.py:1318: UndefinedMetricWarning: Precision and F-score are ill-defined and being set to 0.0 in labels with no predicted samples. Use `zero_division` parameter to control this behavior.\n",
      "  _warn_prf(average, modifier, msg_start, len(result))\n",
      "C:\\Users\\BillP\\AppData\\Local\\Packages\\PythonSoftwareFoundation.Python.3.9_qbz5n2kfra8p0\\LocalCache\\local-packages\\Python39\\site-packages\\sklearn\\metrics\\_classification.py:1318: UndefinedMetricWarning: Precision and F-score are ill-defined and being set to 0.0 in labels with no predicted samples. Use `zero_division` parameter to control this behavior.\n",
      "  _warn_prf(average, modifier, msg_start, len(result))\n",
      "C:\\Users\\BillP\\AppData\\Local\\Packages\\PythonSoftwareFoundation.Python.3.9_qbz5n2kfra8p0\\LocalCache\\local-packages\\Python39\\site-packages\\sklearn\\metrics\\_classification.py:1318: UndefinedMetricWarning: Precision and F-score are ill-defined and being set to 0.0 in labels with no predicted samples. Use `zero_division` parameter to control this behavior.\n",
      "  _warn_prf(average, modifier, msg_start, len(result))\n"
     ]
    }
   ],
   "source": [
    "from sklearn.metrics import classification_report\n",
    "\n",
    "pred = model.predict(x_test)\n",
    "pred = [1.0 if p>= 0.5 else 0.0 for p in pred]\n",
    "print(classification_report(y_test, pred))"
   ]
  },
  {
   "cell_type": "code",
   "execution_count": 24,
   "metadata": {},
   "outputs": [
    {
     "name": "stdout",
     "output_type": "stream",
     "text": [
      "Model: \"sequential_3\"\n",
      "_________________________________________________________________\n",
      " Layer (type)                Output Shape              Param #   \n",
      "=================================================================\n",
      " embedding_1 (Embedding)     (None, 10000, 8)          80000     \n",
      "                                                                 \n",
      " flatten (Flatten)           (None, 80000)             0         \n",
      "                                                                 \n",
      " dense_7 (Dense)             (None, 16)                1280016   \n",
      "                                                                 \n",
      " dense_8 (Dense)             (None, 1)                 17        \n",
      "                                                                 \n",
      "=================================================================\n",
      "Total params: 1,360,033\n",
      "Trainable params: 1,360,033\n",
      "Non-trainable params: 0\n",
      "_________________________________________________________________\n",
      "Epoch 1/10\n",
      "5/5 [==============================] - 3s 497ms/step - loss: -14.7516 - acc: 0.2874 - val_loss: -34.3933 - val_acc: 0.2924\n",
      "Epoch 2/10\n",
      "5/5 [==============================] - 2s 452ms/step - loss: -60.2966 - acc: 0.2874 - val_loss: -81.0130 - val_acc: 0.2924\n",
      "Epoch 3/10\n",
      "5/5 [==============================] - 2s 472ms/step - loss: -119.2836 - acc: 0.2874 - val_loss: -137.4727 - val_acc: 0.2924\n",
      "Epoch 4/10\n",
      "5/5 [==============================] - 2s 456ms/step - loss: -189.7151 - acc: 0.2874 - val_loss: -203.0400 - val_acc: 0.2924\n",
      "Epoch 5/10\n",
      "5/5 [==============================] - 2s 460ms/step - loss: -270.1909 - acc: 0.2874 - val_loss: -276.8249 - val_acc: 0.2924\n",
      "Epoch 6/10\n",
      "5/5 [==============================] - 2s 460ms/step - loss: -360.1279 - acc: 0.2874 - val_loss: -358.9992 - val_acc: 0.2924\n",
      "Epoch 7/10\n",
      "5/5 [==============================] - 2s 451ms/step - loss: -461.1561 - acc: 0.2874 - val_loss: -451.3604 - val_acc: 0.2924\n",
      "Epoch 8/10\n",
      "5/5 [==============================] - 2s 436ms/step - loss: -573.3301 - acc: 0.2874 - val_loss: -552.8761 - val_acc: 0.2924\n",
      "Epoch 9/10\n",
      "5/5 [==============================] - 2s 463ms/step - loss: -696.4377 - acc: 0.2874 - val_loss: -663.4859 - val_acc: 0.2924\n",
      "Epoch 10/10\n",
      "5/5 [==============================] - 2s 454ms/step - loss: -830.0669 - acc: 0.2874 - val_loss: -783.5403 - val_acc: 0.2924\n"
     ]
    }
   ],
   "source": [
    "model = models.Sequential()\n",
    "model.add(layers.Embedding(max_features, 8, input_length=maxlen))\n",
    "model.add(layers.Flatten())\n",
    "model.add(layers.Dense(16, activation='relu'))\n",
    "model.add(layers.Dense(1, activation='sigmoid'))\n",
    "\n",
    "model.compile(optimizer='rmsprop', loss='binary_crossentropy', metrics=['acc'])\n",
    "model.summary()\n",
    "\n",
    "history = model.fit(partial_x_train, partial_y_train, epochs=10, batch_size=512, validation_split=0.2)"
   ]
  }
 ],
 "metadata": {
  "kernelspec": {
   "display_name": "Python 3 (ipykernel)",
   "language": "python",
   "name": "python3"
  },
  "language_info": {
   "codemirror_mode": {
    "name": "ipython",
    "version": 3
   },
   "file_extension": ".py",
   "mimetype": "text/x-python",
   "name": "python",
   "nbconvert_exporter": "python",
   "pygments_lexer": "ipython3",
   "version": "3.9.7"
  },
  "vscode": {
   "interpreter": {
    "hash": "0c07446d5d1419cb0bd25f95ce8726a57daa5232e58b91cc6806ef38f4e8b176"
   }
  }
 },
 "nbformat": 4,
 "nbformat_minor": 2
}
